{
 "cells": [
  {
   "cell_type": "code",
   "execution_count": 1,
   "id": "focused-master",
   "metadata": {},
   "outputs": [],
   "source": [
    "from transformers import pipeline\n",
    "\n",
    "# using pipeline API for summarization task\n",
    "summarization = pipeline(\"summarization\")\n"
   ]
  },
  {
   "cell_type": "code",
   "execution_count": null,
   "id": "domestic-nitrogen",
   "metadata": {},
   "outputs": [],
   "source": [
    "original_text = open('/Users/alexanderlee/Desktop/0.txt', 'r').read()"
   ]
  },
  {
   "cell_type": "code",
   "execution_count": null,
   "id": "black-victorian",
   "metadata": {},
   "outputs": [],
   "source": [
    "original_text = \"\"\" \n",
    "What are we striving for?\n",
    "\"Curating Web3 Mass Adoption\"\n",
    "\n",
    "\n",
    "Problems\n",
    "\n",
    "    Billions are stolen - According to several reports more than $1 billion have been stolen in 2020.* Word of mouth is one of the strongest tools of marketing - stands true today as well. It can go both ways - good or bad, unfortunately for the crypto ecosystem, it's bad because of all these scams happening around.\n",
    "    Slower & riskier - For new entrants, the process of exploring Dapps is hard & not safe either. Exploration is the very start of the user journey into the ecosystem & which in itself has been the cause of problems. Crypto natives know the way to figure out alphas, gems & whatnot but for a new entrant, it is completely a different world.\n",
    "    Shills over the safety - Exploration resources have been taken over by ghost chains / anonymous Dapps / copy pasta fi - creating more chances of rug & scams.\n",
    "    Inadequate support for devs - Devs from Hackathon projects are missing the support & networks. As more anonymous projects take over the hype & resources, less marketing savvy devs lose hope to build further on their ideas & instead follow the narratives.\n",
    "\n",
    "We believe that by equipping the community with the tools, we can tackle the problems better, together.\n",
    "\n",
    "How are we solving these?\n",
    "\n",
    "The over-all product development and strategy has been divided into three different modules to solve the above-mentioned issues.\n",
    "\n",
    "EXPLORE - BUIDL - INVEST\n",
    "\n",
    "    Explore - User journey starts with exploration & app stores play a major role in this. Thus, a Decentralised App Store as a platform is the fastest-growing need for the ecosystem now. TDL is powered by community governance to set a process for listing & delisting of applications. Contributors are rewarded with token + reputation for good acts & they lose reputation + future rewards basis bad acts reported by the community.\n",
    "    BUIDL - Buidl provides a launchpad for devs to build community & networks. This helps them in evolving a hackathon project into a live product. We'll be onboarding hackathon projects to launch on our platform, building a network with our partners & community with our existing users.\n",
    "    Invest - After Explore & Buidl, we will be bridging the gap between devs & users/investors through our invest module. Where the dapp users, as well as the TDL community, can invest in the projects that are launched on TDL. We are the connectors.\n",
    "\n",
    "\n",
    "\n",
    "\"\"\""
   ]
  },
  {
   "cell_type": "code",
   "execution_count": null,
   "id": "julian-measurement",
   "metadata": {},
   "outputs": [],
   "source": [
    "summary_text = summarization(original_text)[0]['summary_text']\n",
    "print(\"Summary:\", summary_text)"
   ]
  },
  {
   "cell_type": "code",
   "execution_count": null,
   "id": "reserved-study",
   "metadata": {},
   "outputs": [],
   "source": []
  },
  {
   "cell_type": "code",
   "execution_count": null,
   "id": "floppy-advice",
   "metadata": {},
   "outputs": [],
   "source": []
  },
  {
   "cell_type": "code",
   "execution_count": 2,
   "id": "starting-annex",
   "metadata": {},
   "outputs": [],
   "source": [
    "from transformers import T5ForConditionalGeneration, T5Tokenizer\n",
    "\n",
    "# initialize the model architecture and weights\n",
    "model = T5ForConditionalGeneration.from_pretrained(\"t5-large\")\n",
    "# initialize the model tokenizer\n",
    "tokenizer = T5Tokenizer.from_pretrained(\"t5-large\")"
   ]
  },
  {
   "cell_type": "code",
   "execution_count": null,
   "id": "beginning-pierre",
   "metadata": {},
   "outputs": [],
   "source": [
    "article = open('/Users/alexanderlee/Desktop/0.txt', 'r').read()"
   ]
  },
  {
   "cell_type": "code",
   "execution_count": 3,
   "id": "reflected-deputy",
   "metadata": {},
   "outputs": [],
   "source": [
    "article = '''\n",
    "\n",
    "We recently hosted an event in Moscow focused on the interoperability of blockchains with speakers from Cosmos (@cosmos), Free TON (@CommunityTon), Polkadot (@Polkadot & @BillLaboon), Solana (@solana), and Waves (@wavesprotocol).\n",
    "One of our goals at BR Capital is to bring together and find the best minds in the Russian developer community to work on blockchain development.\n",
    "Russia has some of the best developers, mathematicians, and scientists in the world. It’s a no-brainer to look for the best programmer talent, in one of the most STEM-talented countries.\n",
    "Although unfortunate that languages sometimes can sometimes create barriers between people, they also allow for diversity of thought. If everyone spoke the same language, we would live in one massive echo chamber where many people would take the same approach to solve the same problems.\n",
    "It’s only natural that the community focused on creating a decentralized world would be built by a similarly decentralized community.\n",
    "#blockchain #DeFi\n",
    "\n",
    "\n",
    "'''"
   ]
  },
  {
   "cell_type": "code",
   "execution_count": 4,
   "id": "traditional-insight",
   "metadata": {},
   "outputs": [],
   "source": [
    "# encode the text into tensor of integers using the appropriate tokenizer\n",
    "inputs = tokenizer.encode(\"summarize: \" + article, return_tensors=\"pt\", max_length=512, truncation=True)\n"
   ]
  },
  {
   "cell_type": "code",
   "execution_count": 5,
   "id": "mediterranean-cannon",
   "metadata": {},
   "outputs": [
    {
     "name": "stdout",
     "output_type": "stream",
     "text": [
      "tensor([[    0,     3,  6934,  1784,  1310,  6523,    46,   605,    16, 15363,\n",
      "          2937,    30,     8,  1413,    32,   883,  2020,    13, 15047,     7,\n",
      "             3,     5,    80,    13,    69,  1766,    44,     3,  6934,  5826,\n",
      "            19,    12,   830,   544,    11,   253,     8,   200, 10884,    16,\n",
      "             8,  4263,  7523,   573,    12,   161,    30, 15047,   606,     3,\n",
      "             5,     3,    99,   921,  5468,     8,   337,  1612,     6,    62,\n",
      "           133,   619,    16,    80,  3805, 20747, 10751,   213,   186,   151,\n",
      "           133,   240,     8,   337,  1295,    12,  4602,     8,   337,   982,\n",
      "             3,     5,    34,    22,     7,   163,   793,    24,     8,   573,\n",
      "          2937,    30,  1577,     3,     9,    20, 21411,   296,   133,    36,\n",
      "          1192,    57,     3,     9, 19467,    20, 21411,   573,     3,     5,\n",
      "             1]])\n",
      "<pad> BR capital recently hosted an event in Moscow focused on the interoperability of blockchains. one of our goals at BR Capital is to bring together and find the best minds in the Russian developer community to work on blockchain development. if everyone spoke the same language, we would live in one massive echo chamber where many people would take the same approach to solve the same problems. it’s only natural that the community focused on creating a decentralized world would be built by a similarly decentralized community.</s>\n"
     ]
    }
   ],
   "source": [
    "# generate the summarization output\n",
    "outputs = model.generate(\n",
    "    inputs, \n",
    "    max_length=250, \n",
    "    min_length=110, \n",
    "    length_penalty=4.0, \n",
    "    num_beams=4, \n",
    "    early_stopping=True)\n",
    "# just for debugging\n",
    "print(outputs)\n",
    "print(tokenizer.decode(outputs[0]))"
   ]
  },
  {
   "cell_type": "code",
   "execution_count": null,
   "id": "nervous-photographer",
   "metadata": {},
   "outputs": [],
   "source": []
  }
 ],
 "metadata": {
  "kernelspec": {
   "display_name": "Python 3",
   "language": "python",
   "name": "python3"
  },
  "language_info": {
   "codemirror_mode": {
    "name": "ipython",
    "version": 3
   },
   "file_extension": ".py",
   "mimetype": "text/x-python",
   "name": "python",
   "nbconvert_exporter": "python",
   "pygments_lexer": "ipython3",
   "version": "3.8.5"
  }
 },
 "nbformat": 4,
 "nbformat_minor": 5
}
